{
  "nbformat": 4,
  "nbformat_minor": 0,
  "metadata": {
    "colab": {
      "name": "NLPwithTF.ipynb",
      "provenance": []
    },
    "kernelspec": {
      "name": "python3",
      "display_name": "Python 3"
    },
    "language_info": {
      "name": "python"
    }
  },
  "cells": [
    {
      "cell_type": "markdown",
      "metadata": {
        "id": "JMTYkn2Sh2L-"
      },
      "source": [
        "Nama : Irawansyah\n",
        "\n",
        "Email : irawanchoc@gmail.com\n",
        "\n",
        "Username : irawansyah"
      ]
    },
    {
      "cell_type": "markdown",
      "metadata": {
        "id": "j_pSFmy8h_yO"
      },
      "source": [
        "Import library pandas "
      ]
    },
    {
      "cell_type": "code",
      "metadata": {
        "id": "3lSu3pYqcQG_"
      },
      "source": [
        "import pandas as pd\n",
        "df= pd.read_csv('amazon_cells_labelled.txt', names=['sentence', 'label'], sep='\\t')"
      ],
      "execution_count": 1,
      "outputs": []
    },
    {
      "cell_type": "markdown",
      "metadata": {
        "id": "j645JqyoihiM"
      },
      "source": [
        "Import 1000 sampel dataset"
      ]
    },
    {
      "cell_type": "code",
      "metadata": {
        "colab": {
          "base_uri": "https://localhost:8080/",
          "height": 418
        },
        "id": "ebRDMB-WcfdA",
        "outputId": "b95b89d7-f3ef-44d9-d42f-abf026871a6b"
      },
      "source": [
        "df.head(1000)"
      ],
      "execution_count": 2,
      "outputs": [
        {
          "output_type": "execute_result",
          "data": {
            "text/html": [
              "<div>\n",
              "<style scoped>\n",
              "    .dataframe tbody tr th:only-of-type {\n",
              "        vertical-align: middle;\n",
              "    }\n",
              "\n",
              "    .dataframe tbody tr th {\n",
              "        vertical-align: top;\n",
              "    }\n",
              "\n",
              "    .dataframe thead th {\n",
              "        text-align: right;\n",
              "    }\n",
              "</style>\n",
              "<table border=\"1\" class=\"dataframe\">\n",
              "  <thead>\n",
              "    <tr style=\"text-align: right;\">\n",
              "      <th></th>\n",
              "      <th>sentence</th>\n",
              "      <th>label</th>\n",
              "    </tr>\n",
              "  </thead>\n",
              "  <tbody>\n",
              "    <tr>\n",
              "      <th>0</th>\n",
              "      <td>So there is no way for me to plug it in here i...</td>\n",
              "      <td>0</td>\n",
              "    </tr>\n",
              "    <tr>\n",
              "      <th>1</th>\n",
              "      <td>Good case, Excellent value.</td>\n",
              "      <td>1</td>\n",
              "    </tr>\n",
              "    <tr>\n",
              "      <th>2</th>\n",
              "      <td>Great for the jawbone.</td>\n",
              "      <td>1</td>\n",
              "    </tr>\n",
              "    <tr>\n",
              "      <th>3</th>\n",
              "      <td>Tied to charger for conversations lasting more...</td>\n",
              "      <td>0</td>\n",
              "    </tr>\n",
              "    <tr>\n",
              "      <th>4</th>\n",
              "      <td>The mic is great.</td>\n",
              "      <td>1</td>\n",
              "    </tr>\n",
              "    <tr>\n",
              "      <th>...</th>\n",
              "      <td>...</td>\n",
              "      <td>...</td>\n",
              "    </tr>\n",
              "    <tr>\n",
              "      <th>995</th>\n",
              "      <td>The screen does get smudged easily because it ...</td>\n",
              "      <td>0</td>\n",
              "    </tr>\n",
              "    <tr>\n",
              "      <th>996</th>\n",
              "      <td>What a piece of junk.. I lose more calls on th...</td>\n",
              "      <td>0</td>\n",
              "    </tr>\n",
              "    <tr>\n",
              "      <th>997</th>\n",
              "      <td>Item Does Not Match Picture.</td>\n",
              "      <td>0</td>\n",
              "    </tr>\n",
              "    <tr>\n",
              "      <th>998</th>\n",
              "      <td>The only thing that disappoint me is the infra...</td>\n",
              "      <td>0</td>\n",
              "    </tr>\n",
              "    <tr>\n",
              "      <th>999</th>\n",
              "      <td>You can not answer calls with the unit, never ...</td>\n",
              "      <td>0</td>\n",
              "    </tr>\n",
              "  </tbody>\n",
              "</table>\n",
              "<p>1000 rows × 2 columns</p>\n",
              "</div>"
            ],
            "text/plain": [
              "                                              sentence  label\n",
              "0    So there is no way for me to plug it in here i...      0\n",
              "1                          Good case, Excellent value.      1\n",
              "2                               Great for the jawbone.      1\n",
              "3    Tied to charger for conversations lasting more...      0\n",
              "4                                    The mic is great.      1\n",
              "..                                                 ...    ...\n",
              "995  The screen does get smudged easily because it ...      0\n",
              "996  What a piece of junk.. I lose more calls on th...      0\n",
              "997                       Item Does Not Match Picture.      0\n",
              "998  The only thing that disappoint me is the infra...      0\n",
              "999  You can not answer calls with the unit, never ...      0\n",
              "\n",
              "[1000 rows x 2 columns]"
            ]
          },
          "metadata": {
            "tags": []
          },
          "execution_count": 2
        }
      ]
    },
    {
      "cell_type": "markdown",
      "metadata": {
        "id": "tNRG8a8_iojW"
      },
      "source": [
        "Preprocessing dengan lowercase"
      ]
    },
    {
      "cell_type": "code",
      "metadata": {
        "colab": {
          "base_uri": "https://localhost:8080/"
        },
        "id": "LsOZ_glXewls",
        "outputId": "36e5c946-27d1-498f-aaf9-b0a093203b50"
      },
      "source": [
        "df['sentence'] = df['sentence'].str.lower()\n",
        "df['sentence']"
      ],
      "execution_count": 3,
      "outputs": [
        {
          "output_type": "execute_result",
          "data": {
            "text/plain": [
              "0      so there is no way for me to plug it in here i...\n",
              "1                            good case, excellent value.\n",
              "2                                 great for the jawbone.\n",
              "3      tied to charger for conversations lasting more...\n",
              "4                                      the mic is great.\n",
              "                             ...                        \n",
              "995    the screen does get smudged easily because it ...\n",
              "996    what a piece of junk.. i lose more calls on th...\n",
              "997                         item does not match picture.\n",
              "998    the only thing that disappoint me is the infra...\n",
              "999    you can not answer calls with the unit, never ...\n",
              "Name: sentence, Length: 1000, dtype: object"
            ]
          },
          "metadata": {
            "tags": []
          },
          "execution_count": 3
        }
      ]
    },
    {
      "cell_type": "markdown",
      "metadata": {
        "id": "pDOd2s-Fit4s"
      },
      "source": [
        "Split data 80% data train dan 20% data test"
      ]
    },
    {
      "cell_type": "code",
      "metadata": {
        "id": "7WCsmK_rchfY"
      },
      "source": [
        "from sklearn.model_selection import train_test_split\n",
        "kalimat = df['sentence'].values\n",
        "y = df['label'].values\n",
        "kalimat_latih, kalimat_test, y_latih, y_test = train_test_split(kalimat, y, test_size=0.2)"
      ],
      "execution_count": 4,
      "outputs": []
    },
    {
      "cell_type": "markdown",
      "metadata": {
        "id": "6AMSPfLIiyVE"
      },
      "source": [
        "Gunakan fungsi tokenizer pada data latih dan data test. Jangan lupa gunakan fungsi pad_sequences agar setiap sequence sama panjang."
      ]
    },
    {
      "cell_type": "code",
      "metadata": {
        "id": "hWWvwc29dk-z"
      },
      "source": [
        "from tensorflow.keras.preprocessing.text import Tokenizer\n",
        "from tensorflow.keras.preprocessing.sequence import pad_sequences\n",
        " \n",
        "tokenizer = Tokenizer(num_words=250, oov_token='x')\n",
        "tokenizer.fit_on_texts(kalimat_latih) \n",
        "tokenizer.fit_on_texts(kalimat_test)\n",
        " \n",
        "sekuens_latih = tokenizer.texts_to_sequences(kalimat_latih)\n",
        "sekuens_test = tokenizer.texts_to_sequences(kalimat_test)\n",
        " \n",
        "padded_latih = pad_sequences(sekuens_latih) \n",
        "padded_test = pad_sequences(sekuens_test)"
      ],
      "execution_count": 5,
      "outputs": []
    },
    {
      "cell_type": "markdown",
      "metadata": {
        "id": "j_mf0gC0jINx"
      },
      "source": [
        "Untuk arsitektur model kita menggunakan layer Embedding dengan dimensi embedding sebesar 16"
      ]
    },
    {
      "cell_type": "code",
      "metadata": {
        "id": "ppJvfxyfdvDl"
      },
      "source": [
        "import tensorflow as tf\n",
        "model = tf.keras.Sequential([\n",
        "    tf.keras.layers.Embedding(250, 16, input_length=20),\n",
        "    tf.keras.layers.LSTM(64),\n",
        "    tf.keras.layers.Dense(24, activation='relu'),\n",
        "    tf.keras.layers.Dense(1, activation='sigmoid')\n",
        "])\n",
        "model.compile(loss='binary_crossentropy',optimizer='adam',metrics=['accuracy'])"
      ],
      "execution_count": 6,
      "outputs": []
    },
    {
      "cell_type": "code",
      "metadata": {
        "id": "3SqECfd6oS5s"
      },
      "source": [
        "class myCallback(tf.keras.callbacks.Callback):\n",
        "  def on_epoch_end(self, epoch, logs={}):\n",
        "    if(logs.get('accuracy')>0.9):\n",
        "      print(\"\\nAkurasi telah mencapai >90%!\")\n",
        "      self.model.stop_training = True\n",
        "callbacks = myCallback()"
      ],
      "execution_count": 7,
      "outputs": []
    },
    {
      "cell_type": "markdown",
      "metadata": {
        "id": "fS4s51vHjZUf"
      },
      "source": [
        "Terakhir kita dapat mulai melatih model kita dengan memanggil fungsi fit()."
      ]
    },
    {
      "cell_type": "code",
      "metadata": {
        "colab": {
          "base_uri": "https://localhost:8080/"
        },
        "id": "xpIBM7JddxwJ",
        "outputId": "fea9af59-e22d-4a82-d5d6-391c2ca1e27c"
      },
      "source": [
        "num_epochs = 50\n",
        "history = model.fit(padded_latih, y_latih, epochs=num_epochs, \n",
        "                    validation_data=(padded_test, y_test), verbose=2, callbacks=[callbacks])"
      ],
      "execution_count": 8,
      "outputs": [
        {
          "output_type": "stream",
          "text": [
            "Epoch 1/50\n",
            "WARNING:tensorflow:Model was constructed with shape (None, 20) for input KerasTensor(type_spec=TensorSpec(shape=(None, 20), dtype=tf.float32, name='embedding_input'), name='embedding_input', description=\"created by layer 'embedding_input'\"), but it was called on an input with incompatible shape (32, 30).\n",
            "WARNING:tensorflow:Model was constructed with shape (None, 20) for input KerasTensor(type_spec=TensorSpec(shape=(None, 20), dtype=tf.float32, name='embedding_input'), name='embedding_input', description=\"created by layer 'embedding_input'\"), but it was called on an input with incompatible shape (32, 30).\n",
            "WARNING:tensorflow:Model was constructed with shape (None, 20) for input KerasTensor(type_spec=TensorSpec(shape=(None, 20), dtype=tf.float32, name='embedding_input'), name='embedding_input', description=\"created by layer 'embedding_input'\"), but it was called on an input with incompatible shape (None, 27).\n",
            "25/25 - 3s - loss: 0.6925 - accuracy: 0.5312 - val_loss: 0.6910 - val_accuracy: 0.5650\n",
            "Epoch 2/50\n",
            "25/25 - 0s - loss: 0.6866 - accuracy: 0.5938 - val_loss: 0.6797 - val_accuracy: 0.5850\n",
            "Epoch 3/50\n",
            "25/25 - 0s - loss: 0.6492 - accuracy: 0.6375 - val_loss: 0.6206 - val_accuracy: 0.6450\n",
            "Epoch 4/50\n",
            "25/25 - 0s - loss: 0.5447 - accuracy: 0.7312 - val_loss: 0.5234 - val_accuracy: 0.7450\n",
            "Epoch 5/50\n",
            "25/25 - 0s - loss: 0.4477 - accuracy: 0.8062 - val_loss: 0.4998 - val_accuracy: 0.7700\n",
            "Epoch 6/50\n",
            "25/25 - 0s - loss: 0.3619 - accuracy: 0.8338 - val_loss: 0.4742 - val_accuracy: 0.7850\n",
            "Epoch 7/50\n",
            "25/25 - 0s - loss: 0.3601 - accuracy: 0.8425 - val_loss: 0.4858 - val_accuracy: 0.7750\n",
            "Epoch 8/50\n",
            "25/25 - 0s - loss: 0.3238 - accuracy: 0.8575 - val_loss: 0.5171 - val_accuracy: 0.7850\n",
            "Epoch 9/50\n",
            "25/25 - 0s - loss: 0.3043 - accuracy: 0.8662 - val_loss: 0.5064 - val_accuracy: 0.7800\n",
            "Epoch 10/50\n",
            "25/25 - 0s - loss: 0.2972 - accuracy: 0.8687 - val_loss: 0.5190 - val_accuracy: 0.7600\n",
            "Epoch 11/50\n",
            "25/25 - 0s - loss: 0.2629 - accuracy: 0.8875 - val_loss: 0.5604 - val_accuracy: 0.7700\n",
            "Epoch 12/50\n",
            "25/25 - 0s - loss: 0.2457 - accuracy: 0.8875 - val_loss: 0.5465 - val_accuracy: 0.7800\n",
            "Epoch 13/50\n",
            "25/25 - 0s - loss: 0.2351 - accuracy: 0.8988 - val_loss: 0.5313 - val_accuracy: 0.7900\n",
            "Epoch 14/50\n",
            "25/25 - 0s - loss: 0.2280 - accuracy: 0.9025 - val_loss: 0.6122 - val_accuracy: 0.7850\n",
            "\n",
            "Akurasi telah mencapai >90%!\n"
          ],
          "name": "stdout"
        }
      ]
    },
    {
      "cell_type": "code",
      "metadata": {
        "colab": {
          "base_uri": "https://localhost:8080/",
          "height": 295
        },
        "id": "TnM5yj6uj9TU",
        "outputId": "2cd218e1-28ec-493e-e369-24608c0e4f6f"
      },
      "source": [
        "import matplotlib.pyplot as plt\n",
        "plt.plot(history.history['loss'])\n",
        "plt.title('Model loss')\n",
        "plt.ylabel('Loss')\n",
        "plt.xlabel('Epoch')\n",
        "plt.legend(['Train'], loc='upper right')\n",
        "plt.show()"
      ],
      "execution_count": 11,
      "outputs": [
        {
          "output_type": "display_data",
          "data": {
            "image/png": "[encoded data removed]",
            "text/plain": [
              "<Figure size 432x288 with 1 Axes>"
            ]
          },
          "metadata": {
            "tags": [],
            "needs_background": "light"
          }
        }
      ]
    },
    {
      "cell_type": "code",
      "metadata": {
        "colab": {
          "base_uri": "https://localhost:8080/",
          "height": 295
        },
        "id": "Q8vPAMeOpVMH",
        "outputId": "4024cc3f-31c6-4874-c564-db0bfbaf4d9d"
      },
      "source": [
        "plt.plot(history.history['accuracy'])\n",
        "plt.title('Model accuracy')\n",
        "plt.ylabel('Accuracy')\n",
        "plt.xlabel('Epoch')\n",
        "plt.legend(['Train'], loc='lower right')\n",
        "plt.show()"
      ],
      "execution_count": 13,
      "outputs": [
        {
          "output_type": "display_data",
          "data": {
            "image/png": "[encoded data removed]",
            "text/plain": [
              "<Figure size 432x288 with 1 Axes>"
            ]
          },
          "metadata": {
            "tags": [],
            "needs_background": "light"
          }
        }
      ]
    },
    {
      "cell_type": "code",
      "metadata": {
        "colab": {
          "base_uri": "https://localhost:8080/",
          "height": 299
        },
        "id": "veCEDu1ppfJw",
        "outputId": "09a0b77b-a7c1-40a2-8b7d-b1d9b574b2d8"
      },
      "source": [
        "\n",
        "import matplotlib.pyplot as plt\n",
        "\n",
        "acc = history.history['accuracy']\n",
        "val_acc = history.history['val_accuracy']\n",
        "loss = history.history['loss']\n",
        "val_loss = history.history['val_loss']\n",
        "\n",
        "epochs = range(len(acc))\n",
        "\n",
        "plt.plot(epochs, acc, 'r', label='Akurasi Pelatihan')\n",
        "plt.plot(epochs, val_acc, 'b', label='Akurasi Validasi')\n",
        "plt.title('Akurasi Pelatihan dan Validasi')\n",
        "plt.legend(loc=0)\n",
        "plt.figure()\n",
        "\n",
        "\n",
        "plt.show()"
      ],
      "execution_count": 14,
      "outputs": [
        {
          "output_type": "display_data",
          "data": {
            "image/png": "[encoded data removed]",
            "text/plain": [
              "<Figure size 432x288 with 1 Axes>"
            ]
          },
          "metadata": {
            "tags": [],
            "needs_background": "light"
          }
        },
        {
          "output_type": "display_data",
          "data": {
            "text/plain": [
              "<Figure size 432x288 with 0 Axes>"
            ]
          },
          "metadata": {
            "tags": []
          }
        }
      ]
    }
  ]
}